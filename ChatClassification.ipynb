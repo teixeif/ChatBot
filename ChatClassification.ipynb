{
 "cells": [
  {
   "cell_type": "code",
   "execution_count": 60,
   "metadata": {},
   "outputs": [
    {
     "name": "stdout",
     "output_type": "stream",
     "text": [
      "training\n",
      "disponibilidade 1\n"
     ]
    }
   ],
   "source": [
    "import nltk\n",
    "import csv\n",
    "from nltk.classify import NaiveBayesClassifier\n",
    "from nltk.classify.util import accuracy\n",
    "\n",
    "def trainingDatabase():\n",
    "    client = [\n",
    "                {'user': 'user_1', 'message': 'Oi, como você tá?', 'status': 'saudacao'},\n",
    "                {'user': 'user_1', 'message': 'Eu to bemm!!!', 'status': 'saudacao'},\n",
    "                {'user': 'user_1', 'message': 'tem alguma promoção   hoje?', 'status': 'promocao'},\n",
    "                {'user': 'user_1', 'message': 'Cadê o iphone?!', 'status': 'prazo'},\n",
    "                {'user': 'user_1', 'message': 'Mas já faz cinco dias', 'status': 'reclamacao'},\n",
    "                {'user': 'user_1', 'message': 'cade o iphone 10?', 'status': 'disponibilidade'},\n",
    "                {'user': 'user_1', 'message': 'Huum, o que vcs tem disponível', 'status': 'disponibilidade'},\n",
    "                {'user': 'user_1', 'message': 'O samsung é melhor que o iphone?', 'status': 'duvidatecnica'}]\n",
    "    sau = readClient(client, 'saudacao')\n",
    "    pro = readClient(client, 'promocao') \n",
    "    pra = readClient(client, 'prazo')\n",
    "    rec = readClient(client, 'reclamacao')\n",
    "    dis = readClient(client, 'disponibilidade')\n",
    "    dte = readClient(client, 'duvidatecnica')    \n",
    "    return sau + pro + pra + rec + dis + dte\n",
    "    \n",
    "\n",
    "def readClient(array, status):\n",
    "    bin = []\n",
    "    for i in array:        \n",
    "        if(i['status'].strip() == status):\n",
    "            bin.append([format_sentence(i['message'].strip()), status])    \n",
    "    return bin\n",
    "\n",
    "def format_sentence(sent):\n",
    "    return({word: True for word in nltk.word_tokenize(sent)})\n",
    "\n",
    "def createClassifier():\n",
    "    training = trainingDatabase()\n",
    "    classifier = NaiveBayesClassifier.train(training)\n",
    "    return classifier\n",
    "\n",
    "cf = createClassifier()\n",
    "                                \n",
    "print(cf.classify(format_sentence('cade o iphone 10?')), 1)\n"
   ]
  },
  {
   "cell_type": "code",
   "execution_count": 61,
   "metadata": {},
   "outputs": [],
   "source": [
    "def predictChatNaive(message, **kwargs):\n",
    "    from nltk.chat.util import Chat, reflections\n",
    "    \n",
    "    pairs = (\n",
    "      (r'saudacao',\n",
    "      ( \"tudo certinho e vc?\",\n",
    "        \"Tudo ótimo! e você\")),\n",
    "\n",
    "      (r'promocao', \n",
    "      (\"hj? temos umatv 50\",\n",
    "       \"hj? temos iphone X\")),      \n",
    "\n",
    "      (r'prazo',\n",
    "      ( \"Olá, o seu pagamento já foi aprovado\",\n",
    "        \"Pagamento já foi aprovado. Quer dizer que o seu produto está a caminho\")),\n",
    "      \n",
    "      (r'reclamacao', \n",
    "      (\"A nossa política de entrega são 5 dias úteis\",\n",
    "       \"Está dentro do prazo de entrega\")),\n",
    "        \n",
    "      (r'disponibilidade', \n",
    "      (\"Oi, o Iphone X está fora de estoque\",\n",
    "       \"Olha, temos o iphone X plus e o samsung s8\")),\n",
    "        \n",
    "      (r'duvidatecnica', \n",
    "      (\"Eles são diferentes, mas são os melhores\",\n",
    "       \"São os melhores aparelhos que nós temos!\")),        \n",
    "        \n",
    "    )\n",
    "    \n",
    "    reflections = {\n",
    "        \"eu sou\"    : \"você é\",\n",
    "        \"eu era\"    : \"você era\",\n",
    "        \"eu\"        : \"você\",        \n",
    "        \"meu\"       : \"seu\",\n",
    "        \"você é\"    : \"eu sou\",\n",
    "        \"você era\"  : \"eu era\",\n",
    "        \"seu\"       : \"my\",\n",
    "        \"seus\"      : \"meus\",\n",
    "        \"você\"      : \"eu\"\n",
    "    }\n",
    "\n",
    "    chatbot = Chat(pairs, reflections)    \n",
    "    \n",
    "    return chatbot.respond(message)"
   ]
  },
  {
   "cell_type": "code",
   "execution_count": 62,
   "metadata": {},
   "outputs": [
    {
     "name": "stdout",
     "output_type": "stream",
     "text": [
      "São os melhores aparelhos que nós temos!\n"
     ]
    }
   ],
   "source": [
    "print(predictChatNaive(cf.classify(format_sentence('O samsung é melhor?'))))"
   ]
  },
  {
   "cell_type": "code",
   "execution_count": null,
   "metadata": {},
   "outputs": [],
   "source": []
  }
 ],
 "metadata": {
  "kernelspec": {
   "display_name": "Python 3",
   "language": "python",
   "name": "python3"
  },
  "language_info": {
   "codemirror_mode": {
    "name": "ipython",
    "version": 3
   },
   "file_extension": ".py",
   "mimetype": "text/x-python",
   "name": "python",
   "nbconvert_exporter": "python",
   "pygments_lexer": "ipython3",
   "version": "3.6.5"
  }
 },
 "nbformat": 4,
 "nbformat_minor": 2
}
