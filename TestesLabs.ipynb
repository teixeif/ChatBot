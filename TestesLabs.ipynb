{
 "cells": [
  {
   "cell_type": "code",
   "execution_count": null,
   "metadata": {},
   "outputs": [],
   "source": [
    "import nltk\n",
    "from nltk.corpus import wordnet as wn\n",
    "from nltk import word_tokenize, pos_tag, ne_chunk\n",
    "#nltk.download('wordnet')\n",
    "#nltk.download('omw')\n",
    "#nltk.download('punkt')\n",
    "#nltk.download('averaged_perceptron_tagger')\n",
    "#nltk.download('maxent_ne_chunker')\n",
    "#nltk.download('words')\n",
    "\n",
    "r = wn.synsets('Cadê', lang='por')\n",
    "print(r)\n",
    "print(r[0].hypernyms())\n",
    "\n",
    "sentence = \"Cadê\"\n",
    "\n",
    "print (ne_chunk(pos_tag(word_tokenize(sentence))))"
   ]
  },
  {
   "cell_type": "code",
   "execution_count": null,
   "metadata": {},
   "outputs": [],
   "source": [
    "import pickle\n",
    "import nltk\n",
    "text = ...\n",
    "tagger = pickle.load(open('C:\\Users\\Boraceia\\Downloads\\tagger.pkl', 'rb'))\n",
    "portuguese_sent_tokenizer = nltk.data.load(\"tokenizers/punkt/portuguese.pickle\")\n",
    "sentences = portuguese_sent_tokenizer.tokenize('Olá, o seu pagamento já foi aprovado')\n",
    "tags = [tagger.tag(nltk.word_tokenize(sentence)) for sentence in sentences]"
   ]
  },
  {
   "cell_type": "code",
   "execution_count": null,
   "metadata": {},
   "outputs": [],
   "source": [
    "from nltk.chat.util import Chat, reflections\n",
    "\n",
    "pairs = (\n",
    "  (r'Oi(.*)?(.*)',\n",
    "  ( \"Tudo certinho e vc? Em que posso ajudá-lo?\",\n",
    "    \"Tudo ótimo e você? Em que posso ajudá-lo?\")),\n",
    "    \n",
    "  (r'(.*)promoção(.*)', \n",
    "  (\"hj? temos umatv 50\",\n",
    "   \"Sim, Temos uma TV 50 polegadas\")),\n",
    "\n",
    "  (r'Cadê(.*)',\n",
    "  ( \"Olá, o seu pagamento já foi aprovado\",\n",
    "    \"Ótimo, o seu pagamento já foi aprovado\")),\n",
    "    \n",
    "  (r'(.*)dias(.*)',\n",
    "  ( \"A nossa política de entrega são 5 dias úteis\",\n",
    "    \"Chegará em breve! A nossa política de entrega são 5 dias úteis\")), \n",
    "\n",
    "  (r'(.*)iphone 10(.*)',\n",
    "  ( \"Oi, o Iphone X está fora de estoque\",\n",
    "    \"Oi, o Iphone X está fora de estoque. Temos outros produtos disponíveis!\")),\n",
    "\n",
    "  (r'(.*)disponível(.*)',\n",
    "  ( \"Olha, temos o iphone X plus e o samsung s8\",\n",
    "    \"Olha, temos o iphone X plus e o samsung s8. São ótimos\")),\n",
    "\n",
    "  (r'(.*)samsung(.*)iphone(.*)',\n",
    "  ( \"São diferentes, mas são ótimos!\",\n",
    "    \"Ambos estão em promoção!\"))\n",
    ")\n",
    "\n",
    "chatbot = Chat(pairs, reflections)\n",
    "\n",
    "#chatbot.converse()\n",
    "print(chatbot.respond(\"Oi, como você tá?\"))\n",
    "print(chatbot.respond(\"tem alguma promoção   hoje?\"))\n",
    "print(chatbot.respond(\"Cadê o iphone?!\"))\n",
    "print(chatbot.respond(\"Mas já faz cinco dias\"))\n",
    "print(chatbot.respond(\"cade o iphone 10?\"))\n",
    "print(chatbot.respond(\"Huum, o que vcs tem disponível\"))\n",
    "print(chatbot.respond(\"O samsung é melhor que o iphone?\"))"
   ]
  },
  {
   "cell_type": "code",
   "execution_count": null,
   "metadata": {},
   "outputs": [],
   "source": [
    "from nltk.stem import WordNetLemmatizer\n",
    "wordnet_lemmatizer = WordNetLemmatizer()\n",
    "wordnet_lemmatizer.lemmatize(\"Pedra\", 'n')"
   ]
  },
  {
   "cell_type": "code",
   "execution_count": 18,
   "metadata": {},
   "outputs": [
    {
     "name": "stdout",
     "output_type": "stream",
     "text": [
      "2\n",
      "0.8\n"
     ]
    }
   ],
   "source": [
    "from nltk.metrics.distance import jaccard_distance, edit_distance\n",
    "\n",
    "print(edit_distance('iphone', 'iphone x', substitution_cost=1, transpositions=False))\n",
    "\n",
    "print(4/5)"
   ]
  },
  {
   "cell_type": "code",
   "execution_count": null,
   "metadata": {},
   "outputs": [],
   "source": []
  }
 ],
 "metadata": {
  "kernelspec": {
   "display_name": "Python 3",
   "language": "python",
   "name": "python3"
  },
  "language_info": {
   "codemirror_mode": {
    "name": "ipython",
    "version": 3
   },
   "file_extension": ".py",
   "mimetype": "text/x-python",
   "name": "python",
   "nbconvert_exporter": "python",
   "pygments_lexer": "ipython3",
   "version": "3.6.5"
  }
 },
 "nbformat": 4,
 "nbformat_minor": 2
}
