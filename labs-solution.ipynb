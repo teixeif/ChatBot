{
 "cells": [
  {
   "cell_type": "markdown",
   "metadata": {},
   "source": [
    "# P&D - Cientista de Dados - ChatBot\n",
    "\n",
    "## Motivação\n",
    "\n",
    "Grande parte dos dados são desestruturados: desde a descrição de produtos até conversas referentes ao atendimento são salvos como texto nos nossos bancos de dados. Temos enorme interesse em utilizar nosso volume de dados para criação de processos automáticos dentro da empresa.\n",
    "\n",
    "## Desafio\n",
    "\n",
    "O intuito desse desafio é entender como você abordaria essa problemática de processamento e compreensão de texto para alguns casos reduzidos de conversas entre nossos clientes e a empresa:\n",
    "- Conversa cotidiana\n",
    "- Suporte pós venda\n",
    "- Conversa técnica\n",
    "\n",
    "Uma pequena base de dados foi criada para efeito de ilustração e pode ser usada com referência.\n",
    "\n",
    "Na avaliação desse desafio serão considerados:\n",
    "- As hipóteses levantadas\n",
    "- O rigor, a consistência e a escalabilidade da solução\n",
    "- O domínio dos conhecimentos utilizados\n",
    "- A escolha de bibliotécas e/ou frameworks utilizados\n",
    "\n",
    "Não estamos procurando a resposta correta, mas sim buscando entender a sua metodologia e o seu entendimento do problema. Quaisquer dúvidas, fique a vontade para entrar em contato com: **luigi.tedesco@luizalabs.com**"
   ]
  },
  {
   "cell_type": "markdown",
   "metadata": {},
   "source": [
    "O esqueleto abaixo foi montado para guiar a resolução do problema, mas fique a vontade para ignorá-lo caso tenha vontade."
   ]
  },
  {
   "cell_type": "code",
   "execution_count": 220,
   "metadata": {},
   "outputs": [],
   "source": [
    "conversations = [\n",
    "\n",
    "    # small talk\n",
    "    [\n",
    "        {'user': 'user_1', 'message': 'Oi, como você tá?'                            , 'status': None},\n",
    "        {'user': 'user_2', 'message': 'tudo certinho e vc?   '                       , 'status': None},\n",
    "        {'user': 'user_1', 'message': ' Eu to bemm!!!'                               , 'status': None},\n",
    "        {'user': 'user_1', 'message': 'tem alguma promoção   hoje?'                  , 'status': None},\n",
    "        {'user': 'user_2', 'message': 'hj? temos umatv 50\" \\n '                      , 'status': None},\n",
    "    ],\n",
    "    \n",
    "    # customer service\n",
    "    [\n",
    "        {'user': 'user_1', 'message': 'Cadê o iphone?!'                              , 'status': 'payment_approved'},\n",
    "        {'user': 'attd_1', 'message': 'Olá, o seu pagamento já foi aprovado'         , 'status': 'payment_approved'},\n",
    "        {'user': 'attd_1', 'message': 'Quer dizer que o seu produto está a caminho'  , 'status': 'payment_approved'},\n",
    "        {'user': 'user_1', 'message': 'Mas já faz cinco dias'                        , 'status': 'payment_approved'},\n",
    "        {'user': 'attd_1', 'message': 'A nossa política de entrega são 5 dias úteis' , 'status': 'payment_approved'},\n",
    "        {'user': 'user_1', 'message': 'Ahh é verdade xD'                             , 'status': 'payment_approved'},\n",
    "    ],\n",
    "    \n",
    "    # sale\n",
    "    [\n",
    "        {'user': 'user_1', 'message': 'cade o iphone 10?'                            , 'status': 'shopping'},\n",
    "        {'user': 'sell_1', 'message': 'Oi, o Iphone X está fora de estoque'          , 'status': 'shopping'},\n",
    "        {'user': 'user_1', 'message': 'Huum, o que vcs tem disponível'               , 'status': 'shoppinng'},\n",
    "        {'user': 'sell_1', 'message': 'Olha, temos o iphone X plus e o samsung s8'   , 'status': 'shopping'},\n",
    "        {'user': 'user_1', 'message': 'O samsung é melhor que o iphone?'             , 'status': 'shopping'},\n",
    "        {'user': 'sell_1', 'message': 'Eles são diferentes, mas são os melhores'     , 'status': 'shopping'},\n",
    "    ],\n",
    "]"
   ]
  },
  {
   "cell_type": "markdown",
   "metadata": {},
   "source": [
    "o Natural Language Tollkit foi utilizado para:\n",
    "- Criação do classificador de sentimentos\n",
    "- Criação da resposta atribuída ao bot\n",
    "\n",
    "O módulo csv foi utilizado para:\n",
    "- Ler sentenças previamente classificadas como: Positivo, Neutro, Negativo para utilização no classificador de sentimentos."
   ]
  },
  {
   "cell_type": "code",
   "execution_count": 221,
   "metadata": {},
   "outputs": [],
   "source": [
    "import nltk\n",
    "import csv\n",
    "from nltk.classify import NaiveBayesClassifier"
   ]
  },
  {
   "cell_type": "markdown",
   "metadata": {},
   "source": [
    "O trecho de código abaixo criou a base de treinamento para as respostas atribuídas ao bot. Algumas Classes foram criadas a partir do esqueleto sugerido no desafio e solicitações de conversas que partiram dos Clientes.\n",
    "Uma base de dados com um número expressivo de sentenças melhoraria o desempenho do classificador."
   ]
  },
  {
   "cell_type": "code",
   "execution_count": 222,
   "metadata": {},
   "outputs": [],
   "source": [
    "def trainingDatabase():\n",
    "    client = [\n",
    "                {'user': 'user_1', 'message': 'Oi, como você tá?', 'status': 'saudacao'},\n",
    "                {'user': 'user_1', 'message': 'Eu to bemm!!!', 'status': 'saudacao'},\n",
    "                {'user': 'user_1', 'message': 'tem alguma promoção   hoje?', 'status': 'promocao'},\n",
    "                {'user': 'user_1', 'message': 'Cadê o iphone?!', 'status': 'prazo'},\n",
    "                {'user': 'user_1', 'message': 'Mas já faz cinco dias', 'status': 'reclamacao'},\n",
    "                {'user': 'user_1', 'message': 'cade o iphone 10?', 'status': 'disponibilidade'},\n",
    "                {'user': 'user_1', 'message': 'Huum, o que vcs tem disponível', 'status': 'disponibilidade'},\n",
    "                {'user': 'user_1', 'message': 'O samsung é melhor que o iphone?', 'status': 'duvidatecnica'},\n",
    "                {'user': 'user_1', 'message': 'Ahh é verdade xD', 'status': 'satisfacao'}\n",
    "    ]\n",
    "    sau = readClient(client, 'saudacao')\n",
    "    pro = readClient(client, 'promocao') \n",
    "    pra = readClient(client, 'prazo')\n",
    "    rec = readClient(client, 'reclamacao')\n",
    "    dis = readClient(client, 'disponibilidade')\n",
    "    dte = readClient(client, 'duvidatecnica')    \n",
    "    sat = readClient(client, 'satisfacao')\n",
    "    return sau + pro + pra + rec + dis + dte + sat"
   ]
  },
  {
   "cell_type": "markdown",
   "metadata": {},
   "source": [
    "A função abaixo criou a base de treinamento para o classificador de sentimentos. Foi utilizado um arquivo ('Tweets.csv') com ~8000 tweets classificados como Positivo, Negativo e Neutro. A opção por tweets está relacionada ao tamanho e objetividade das respostas, que se aproximam da proposta do desafio. Uma base com sentenças no domínio de atendimento, com os mesmos grupos (Positivo, Negativo e Neutro), poderia aumentar a eficiência e eficácia do classificador."
   ]
  },
  {
   "cell_type": "code",
   "execution_count": 223,
   "metadata": {},
   "outputs": [],
   "source": [
    "def trainingDatabaseSentiment(file = 'Tweets.csv'):\n",
    "    pos = readTweets(file, 'Positivo')\n",
    "    neg = readTweets(file, 'Negativo') \n",
    "    neu = readTweets(file, 'Neutro')    \n",
    "    return pos + neg + neu"
   ]
  },
  {
   "cell_type": "markdown",
   "metadata": {},
   "source": [
    "As funções readClient e readTweets foram responsáveis pela criação dos vetores de características das bases de treinamento do classificador para o Bot e Sentimento, respectivamente."
   ]
  },
  {
   "cell_type": "code",
   "execution_count": 224,
   "metadata": {},
   "outputs": [],
   "source": [
    "def readClient(array, status):\n",
    "    bin = []\n",
    "    for i in array:        \n",
    "        if(i['status'].strip() == status):\n",
    "            bin.append([format_sentence(i['message'].strip()), status])\n",
    "    return bin"
   ]
  },
  {
   "cell_type": "code",
   "execution_count": 225,
   "metadata": {},
   "outputs": [],
   "source": [
    "def readTweets(file, sentiment):\n",
    "    arrayTweets = []\n",
    "    with open(file, 'rt', encoding=\"utf8\") as csvfile:\n",
    "        spamreader = csv.reader(csvfile, delimiter=',', quotechar='\"')\n",
    "        for row in spamreader:\n",
    "            if(row[9].strip() == sentiment):\n",
    "                arrayTweets.append([format_sentence(row[2].strip()), sentiment])                \n",
    "    return arrayTweets"
   ]
  },
  {
   "cell_type": "markdown",
   "metadata": {},
   "source": [
    "O trecho de código abaixo criou os tokens por palavras únicas, que posteriormente foram utilizados nos vetores de características.\n",
    "Outras técnicas poderiam ser utilizadas como: Part of Speach, Entity recognition, Lematização, Stemmer e WordNet. A precisão e revocação dos classificadores poderiam alcançar números mais favoráveis."
   ]
  },
  {
   "cell_type": "code",
   "execution_count": 226,
   "metadata": {},
   "outputs": [],
   "source": [
    "def format_sentence(sent):\n",
    "    return({word: True for word in nltk.word_tokenize(sent)})"
   ]
  },
  {
   "cell_type": "markdown",
   "metadata": {},
   "source": [
    "Funções abaixo criaram os classificadores para o Bot e Sentimento, respectivamente, a partir das bases de treinamento.\n",
    "O classificador Naive Bayes foi utilizado. Ele apresenta bom desempenho ao ser utilizado para procesamento de linguagem natural, no entanto, experimentos com classificadores lineares e não lineares devem ser realizados."
   ]
  },
  {
   "cell_type": "code",
   "execution_count": 227,
   "metadata": {},
   "outputs": [],
   "source": [
    "def createClassifier():\n",
    "    training = trainingDatabase()\n",
    "    classifier = NaiveBayesClassifier.train(training)\n",
    "    return classifier"
   ]
  },
  {
   "cell_type": "code",
   "execution_count": 228,
   "metadata": {},
   "outputs": [],
   "source": [
    "def createClassifierSentiment():\n",
    "    training = trainingDatabaseSentiment('Tweets.csv')\n",
    "    classifier = NaiveBayesClassifier.train(training)    \n",
    "    return classifier"
   ]
  },
  {
   "cell_type": "code",
   "execution_count": 229,
   "metadata": {},
   "outputs": [],
   "source": [
    "def predict(message, **kwargs):\n",
    "    return 'bip bip'"
   ]
  },
  {
   "cell_type": "markdown",
   "metadata": {},
   "source": [
    "A função \"predictChat\" não foi utilizada, no entanto mostra como as respostas do Bot poderiam ser processadas a partir de expressões regulares."
   ]
  },
  {
   "cell_type": "code",
   "execution_count": 230,
   "metadata": {},
   "outputs": [],
   "source": [
    "def predictChat(message, **kwargs):\n",
    "    from nltk.chat.util import Chat, reflections\n",
    "    \n",
    "    pairs = (\n",
    "      (r'Oi(.*)?(.*)',\n",
    "      ( \"Tudo certinho e vc? Em que posso ajudá-lo?\",\n",
    "        \"Tudo ótimo e você? Em que posso ajudá-lo?\")),\n",
    "\n",
    "      (r'(.*)promoção(.*)', \n",
    "      (\"hj? temos umatv 50\",\n",
    "       \"Sim, Temos uma TV 50 polegadas\")),\n",
    "\n",
    "      (r'Cadê(.*)',\n",
    "      ( \"Olá, o seu pagamento já foi aprovado. Quer dizer que o seu produto está a caminho!\",\n",
    "        \"Ótimo, o seu pagamento já foi aprovado. Quer dizer que o seu produto está a caminho\")),\n",
    "\n",
    "      (r'(.*)dias(.*)',\n",
    "      ( \"A nossa política de entrega são 5 dias úteis\",\n",
    "        \"Chegará em breve! A nossa política de entrega são 5 dias úteis\")), \n",
    "\n",
    "      (r'(.*)iphone 10(.*)',\n",
    "      ( \"Oi, o Iphone X está fora de estoque\",\n",
    "        \"Oi, o Iphone X está fora de estoque. Temos outros produtos disponíveis!\")),\n",
    "\n",
    "      (r'(.*)disponível(.*)',\n",
    "      ( \"Olha, temos o iphone X plus e o samsung s8\",\n",
    "        \"Olha, temos o iphone X plus e o samsung s8. São ótimos\")),\n",
    "\n",
    "      (r'(.*)samsung(.*)iphone(.*)',\n",
    "      ( \"São diferentes, mas são ótimos!\",\n",
    "        \"Ambos estão em promoção e são ótimos!\")),\n",
    "        \n",
    "      (r'(.*)Obrigado(.*)',\n",
    "      ( \"Muito bom conversar com você!\",\n",
    "        \"Volte sempre!\")),\n",
    "        \n",
    "      (r'(.*)',\n",
    "      ( \"Em que posso ajudá-lo?\",\n",
    "        \"Deseja algum produto?\"))        \n",
    "    )\n",
    "    \n",
    "    reflections = {\n",
    "        \"eu sou\"    : \"você é\",\n",
    "        \"eu era\"    : \"você era\",\n",
    "        \"eu\"        : \"você\",        \n",
    "        \"meu\"       : \"seu\",\n",
    "        \"você é\"    : \"eu sou\",\n",
    "        \"você era\"  : \"eu era\",\n",
    "        \"seu\"       : \"meu\",\n",
    "        \"seus\"      : \"meus\",\n",
    "        \"você\"      : \"eu\"\n",
    "    }\n",
    "\n",
    "    chatbot = Chat(pairs, reflections)    \n",
    "    \n",
    "    return chatbot.respond(message)\n",
    "    "
   ]
  },
  {
   "cell_type": "markdown",
   "metadata": {},
   "source": [
    "A função \"predictChatNaive\" foi utilizada em conjunto com o classificador para respostas atribuídas ao Bot. Os pares criados estão em concordância com as Classes utilizadas no classificador."
   ]
  },
  {
   "cell_type": "code",
   "execution_count": 231,
   "metadata": {},
   "outputs": [],
   "source": [
    "def predictChatNaive(message, **kwargs):\n",
    "    \n",
    "    from nltk.chat.util import Chat, reflections\n",
    "    \n",
    "    pairs = (\n",
    "      (r'saudacao',\n",
    "      ( \"tudo certinho e vc?\",\n",
    "        \"Tudo ótimo! E você\")),\n",
    "\n",
    "      (r'promocao', \n",
    "      (\"hj? temos umatv 50\",\n",
    "       \"hj? temos iphone X\")),      \n",
    "\n",
    "      (r'prazo',\n",
    "      ( \"Olá, o seu pagamento já foi aprovado\",\n",
    "        \"Pagamento já foi aprovado. Quer dizer que o seu produto está a caminho\")),\n",
    "      \n",
    "      (r'reclamacao', \n",
    "      (\"A nossa política de entrega são 5 dias úteis\",\n",
    "       \"Está dentro do prazo de entrega\")),\n",
    "        \n",
    "      (r'disponibilidade', \n",
    "      (\"Oi, o Iphone X está fora de estoque\",\n",
    "       \"Olha, temos o iphone X plus e o samsung s8\")),\n",
    "        \n",
    "      (r'duvidatecnica', \n",
    "      (\"Eles são diferentes, mas são os melhores\",\n",
    "       \"São os melhores aparelhos que nós temos!\")),\n",
    "        \n",
    "      (r'satisfacao', \n",
    "      (\"Muito bom conversar com você! Até a próxima.\",\n",
    "       \"Esperamos vê-lo novamente! Tchau.\")),  \n",
    "      \n",
    "      (r'nervoso', \n",
    "      (\"Fácil de resolver!\",\n",
    "       \"Tranquilo!\"))\n",
    "        \n",
    "    )\n",
    "    \n",
    "    reflections = {\n",
    "        \"eu sou\"    : \"você é\",\n",
    "        \"eu era\"    : \"você era\",\n",
    "        \"eu\"        : \"você\",        \n",
    "        \"meu\"       : \"seu\",\n",
    "        \"você é\"    : \"eu sou\",\n",
    "        \"você era\"  : \"eu era\",\n",
    "        \"seu\"       : \"my\",\n",
    "        \"seus\"      : \"meus\",\n",
    "        \"você\"      : \"eu\"\n",
    "    }\n",
    "\n",
    "    chatbot = Chat(pairs, reflections)    \n",
    "    \n",
    "    return chatbot.respond(message)"
   ]
  },
  {
   "cell_type": "code",
   "execution_count": 232,
   "metadata": {},
   "outputs": [],
   "source": [
    "def evaluate(predicted, human):\n",
    "    return 1"
   ]
  },
  {
   "cell_type": "code",
   "execution_count": 233,
   "metadata": {},
   "outputs": [
    {
     "name": "stdout",
     "output_type": "stream",
     "text": [
      "[1, 1, 1] 1.0\n"
     ]
    }
   ],
   "source": [
    "# evaluation\n",
    "score = []\n",
    "for conversation in conversations:\n",
    "    cnt = 0\n",
    "    bot = []\n",
    "    human = []\n",
    "\n",
    "    for message in conversation:\n",
    "        if message['user'] == 'user_1':\n",
    "            bot.append({\n",
    "                'user': 'bot',\n",
    "                'message': predictChat(**message),\n",
    "                'status': '',\n",
    "            })\n",
    "        else:\n",
    "            human.append(message)\n",
    "    \n",
    "    #print(bot)\n",
    "    score.append(evaluate(bot, human))\n",
    "    \n",
    "print(score, sum(score)/len(score))                              "
   ]
  },
  {
   "cell_type": "markdown",
   "metadata": {},
   "source": [
    "O trecho de código abaixo foi modificado e incluiu o acionamento do classificador de sentimento, que sugere respostas a partir de questionamentos do usuário com sentimento negativo.\n",
    "Também contempla as respostas do Bot utilizando o classificador e o mecanismo de Chat."
   ]
  },
  {
   "cell_type": "code",
   "execution_count": 234,
   "metadata": {},
   "outputs": [
    {
     "name": "stdout",
     "output_type": "stream",
     "text": [
      ">>> Olá tudo bem?\n",
      "\n",
      "\n",
      "                                                                                                  tudo certinho e vc? <<<\n",
      "\n",
      "\n",
      ">>> tem alguma promoção   hoje?\n",
      "\n",
      "\n",
      "                                                                                                  hj? temos iphone X <<<\n",
      "\n",
      "\n",
      ">>> Cadê o iphone?!\n",
      "\n",
      "\n",
      "                                                                                                  Tranquilo! Olá, o seu pagamento já foi aprovado <<<\n",
      "\n",
      "\n",
      ">>> Mas já faz cinco dias\n",
      "\n",
      "\n",
      "                                                                                                  Está dentro do prazo de entrega <<<\n",
      "\n",
      "\n",
      ">>> Ahh é verdade xD\n",
      "\n",
      "\n",
      "                                                                                                  Esperamos vê-lo novamente! Tchau. <<<\n",
      "\n",
      "\n",
      ">>> cade o iphone 10?\n",
      "\n",
      "\n",
      "                                                                                                  Olha, temos o iphone X plus e o samsung s8 <<<\n",
      "\n",
      "\n",
      ">>> Huum, o que vcs tem disponível\n",
      "\n",
      "\n",
      "                                                                                                  Tranquilo! Oi, o Iphone X está fora de estoque <<<\n",
      "\n",
      "\n",
      ">>> O samsung é melhor que o iphone?\n",
      "\n",
      "\n",
      "                                                                                                  São os melhores aparelhos que nós temos! <<<\n",
      "\n",
      "\n",
      ">>> exit\n",
      "\n",
      "\n"
     ]
    }
   ],
   "source": [
    "# have fun\n",
    "text_size = 100\n",
    "bubbles = ('>>>', '<<<')\n",
    "\n",
    "cf = createClassifier()\n",
    "cfsentiment = createClassifierSentiment()\n",
    "\n",
    "user = 'start'\n",
    "while True:\n",
    "    # user input\n",
    "    print(bubbles[0], end=' ')\n",
    "    user = input()\n",
    "    print('\\n')    \n",
    "\n",
    "    # exit command\n",
    "    if user == 'exit':\n",
    "        break   \n",
    "\n",
    "    # bot response\n",
    "    if(cfsentiment.classify(format_sentence(user)) == 'Negativo'):\n",
    "        bot = predictChatNaive('nervoso') + ' ' + predictChatNaive(cf.classify(format_sentence(user)))       \n",
    "    else:\n",
    "        bot = predictChatNaive(cf.classify(format_sentence(user)))\n",
    "        \n",
    "    text_box = (\n",
    "        text_size \n",
    "        - len(bubbles[0])\n",
    "        - len(bubbles[1])\n",
    "        - 2\n",
    "    ) + 1\n",
    "\n",
    "    split = int(len(bot)/text_box)\n",
    "    if split > 0:\n",
    "        start = 0\n",
    "        end = text_box\n",
    "        for line in range():\n",
    "            start += text_box\n",
    "            end += text_box\n",
    "            bot_msg = bot[start:end]\n",
    "            print(\n",
    "                ' ' * len(bubbles[0]),\n",
    "                bot_msg,\n",
    "                ' ' * (text_box - len(bot_msg)),\n",
    "                bubbles[1]\n",
    "            )\n",
    "    else:\n",
    "        print(\n",
    "            ' ' * (text_size - len(bubbles[0])),\n",
    "            bot, bubbles[1]\n",
    "        )\n",
    "    print('\\n')"
   ]
  }
 ],
 "metadata": {
  "celltoolbar": "Edit Metadata",
  "kernelspec": {
   "display_name": "Python 3",
   "language": "python",
   "name": "python3"
  },
  "language_info": {
   "codemirror_mode": {
    "name": "ipython",
    "version": 3
   },
   "file_extension": ".py",
   "mimetype": "text/x-python",
   "name": "python",
   "nbconvert_exporter": "python",
   "pygments_lexer": "ipython3",
   "version": "3.6.5"
  }
 },
 "nbformat": 4,
 "nbformat_minor": 2
}
