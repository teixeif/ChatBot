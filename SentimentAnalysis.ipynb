{
 "cells": [
  {
   "cell_type": "code",
   "execution_count": 80,
   "metadata": {},
   "outputs": [
    {
     "name": "stdout",
     "output_type": "stream",
     "text": [
      "Positivo 1\n",
      "Neutro 2\n",
      "Negativo 3\n",
      "Neutro 4\n",
      "Neutro 5\n",
      "Negativo 6\n",
      "Neutro 7\n"
     ]
    }
   ],
   "source": [
    "import nltk\n",
    "import csv\n",
    "from nltk.classify import NaiveBayesClassifier\n",
    "from nltk.classify.util import accuracy\n",
    "\n",
    "\n",
    "def readTweets(file, sentiment):\n",
    "    arrayTweets = []\n",
    "    with open(file, 'rt', encoding=\"utf8\") as csvfile:\n",
    "        spamreader = csv.reader(csvfile, delimiter=',', quotechar='\"')\n",
    "        for row in spamreader:\n",
    "            if(row[9].strip() == sentiment):\n",
    "                arrayTweets.append([format_sentence(row[2].strip()), sentiment])                \n",
    "    return arrayTweets\n",
    "    \n",
    "    \n",
    "def format_sentence(sent):\n",
    "    return({word: True for word in nltk.word_tokenize(sent)})\n",
    "    \n",
    "\n",
    "def trainingDatabase(file = 'Tweets_Mg.csv'):\n",
    "    pos = readTweets(file, 'Positivo')\n",
    "    neg = readTweets(file, 'Negativo') \n",
    "    neu = readTweets(file, 'Neutro')    \n",
    "    return pos + neg + neu\n",
    "\n",
    "\n",
    "def createClassifier():\n",
    "    training = trainingDatabase('Tweets_Mg.csv')\n",
    "    classifier = NaiveBayesClassifier.train(training)    \n",
    "    return classifier\n",
    "                                \n",
    "cf = createClassifier()\n",
    "\n",
    "print(cf.classify(format_sentence('Lindo')), 1)\n",
    "print(cf.classify(format_sentence('tem alguma promoção hoje?')), 2)\n",
    "print(cf.classify(format_sentence('Cadê o iphone?!')), 3)\n",
    "print(cf.classify(format_sentence('Mas já faz cinco dias')), 4)\n",
    "print(cf.classify(format_sentence('cade o iphone 10?')), 5)\n",
    "print(cf.classify(format_sentence('Huum, o que vcs tem disponível')), 6)\n",
    "print(cf.classify(format_sentence('O samsung é melhor que o iphone?')), 7)\n"
   ]
  },
  {
   "cell_type": "code",
   "execution_count": null,
   "metadata": {},
   "outputs": [],
   "source": []
  },
  {
   "cell_type": "code",
   "execution_count": null,
   "metadata": {},
   "outputs": [],
   "source": []
  }
 ],
 "metadata": {
  "kernelspec": {
   "display_name": "Python 3",
   "language": "python",
   "name": "python3"
  },
  "language_info": {
   "codemirror_mode": {
    "name": "ipython",
    "version": 3
   },
   "file_extension": ".py",
   "mimetype": "text/x-python",
   "name": "python",
   "nbconvert_exporter": "python",
   "pygments_lexer": "ipython3",
   "version": "3.6.5"
  }
 },
 "nbformat": 4,
 "nbformat_minor": 2
}
